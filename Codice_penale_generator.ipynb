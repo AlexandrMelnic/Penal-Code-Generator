{
  "nbformat": 4,
  "nbformat_minor": 0,
  "metadata": {
    "colab": {
      "name": "Codice penale generator.ipynb",
      "provenance": [],
      "collapsed_sections": []
    },
    "kernelspec": {
      "name": "python3",
      "display_name": "Python 3"
    },
    "accelerator": "GPU"
  },
  "cells": [
    {
      "cell_type": "code",
      "metadata": {
        "colab": {
          "base_uri": "https://localhost:8080/"
        },
        "id": "iy9Q1-WCGC24",
        "outputId": "827589b3-2b79-47bd-910b-810b448af7a0"
      },
      "source": [
        "% cd /content/drive/MyDrive/NN/Divina commedia generation\r\n",
        "\r\n",
        "import codice_penale_scraper  \r\n",
        "import pandas as pd\r\n",
        "import tensorflow as tf\r\n",
        "from tensorflow.keras import layers"
      ],
      "execution_count": 1,
      "outputs": [
        {
          "output_type": "stream",
          "text": [
            "/content/drive/MyDrive/NN/Divina commedia generation\n"
          ],
          "name": "stdout"
        }
      ]
    },
    {
      "cell_type": "code",
      "metadata": {
        "id": "CnRQ2HzyGkti"
      },
      "source": [
        "scraper = codice_penale_scraper.WebScraper('/content/drive/MyDrive/NN/Divina commedia generation/codice_penale.txt')\r\n",
        "scraper.save_scraped_pages()"
      ],
      "execution_count": 12,
      "outputs": []
    },
    {
      "cell_type": "code",
      "metadata": {
        "id": "ul0orgEoHEBy"
      },
      "source": [
        "data = open('/content/drive/MyDrive/NN/Divina commedia generation/codice_penale.txt', 'rb').read().decode(encoding='latin-1')"
      ],
      "execution_count": 13,
      "outputs": []
    },
    {
      "cell_type": "code",
      "metadata": {
        "id": "tdy6JKl3HP0S"
      },
      "source": [
        "char_id_map = {}\r\n",
        "id_char_map = {}\r\n",
        "\r\n",
        "idx = 0\r\n",
        "for x in data.split(' '):\r\n",
        "    if x not in char_id_map:\r\n",
        "        char_id_map[x] = idx\r\n",
        "        id_char_map[idx] = x\r\n",
        "        idx += 1"
      ],
      "execution_count": 14,
      "outputs": []
    },
    {
      "cell_type": "code",
      "metadata": {
        "id": "kZD4GwPqHU3y"
      },
      "source": [
        "SEQ_LEN = 20\r\n",
        "\r\n",
        "text_sequence = [char_id_map[x] for x in data.split(' ')]\r\n",
        "\r\n",
        "target_sequence = text_sequence[1:] \r\n",
        "text_sequence = text_sequence[:-1]\r\n",
        "\r\n",
        "train_data = tf.data.Dataset.from_tensor_slices((text_sequence, target_sequence)).batch(SEQ_LEN)"
      ],
      "execution_count": 15,
      "outputs": []
    },
    {
      "cell_type": "code",
      "metadata": {
        "id": "-orIbiL7H837"
      },
      "source": [
        "train_data = train_data.shuffle(10000).batch(64, drop_remainder=True)\r\n",
        "x = next(iter(train_data))"
      ],
      "execution_count": 17,
      "outputs": []
    },
    {
      "cell_type": "code",
      "metadata": {
        "id": "6CAsW9tEIBTb"
      },
      "source": [
        "def build_model():\r\n",
        "    input_layer = layers.Input((20,), batch_size=64)\r\n",
        "    x = layers.Embedding(len(char_id_map), 256, input_length=20)(input_layer)\r\n",
        "    \r\n",
        "    x = layers.LSTM(1024, stateful=True, return_sequences=True)(x)\r\n",
        "    x = layers.Dense(len(char_id_map)) (x) \r\n",
        "    \r\n",
        "    return tf.keras.Model(input_layer, x)"
      ],
      "execution_count": 43,
      "outputs": []
    },
    {
      "cell_type": "code",
      "metadata": {
        "id": "WgEIB-yJJE4D"
      },
      "source": [
        "model = build_model()\r\n",
        "loss = tf.keras.losses.SparseCategoricalCrossentropy(from_logits=True)\r\n",
        "opt = tf.keras.optimizers.Adam()"
      ],
      "execution_count": 44,
      "outputs": []
    },
    {
      "cell_type": "code",
      "metadata": {
        "id": "1E6hxs6iJHNK"
      },
      "source": [
        "model.compile(optimizer=opt, loss=loss)\r\n",
        "model.fit(train_data, epochs=100)"
      ],
      "execution_count": null,
      "outputs": []
    },
    {
      "cell_type": "code",
      "metadata": {
        "id": "bmr2OiwtLDhs"
      },
      "source": [
        "pred_seq_len = 1000\r\n",
        "init_char = tf.cast(tf.random.uniform(shape = (64, 1))*(len(char_id_map)-1), tf.int32)\r\n",
        "generated_text = [ [id_char_map[x[0]] for x in init_char.numpy()]]\r\n",
        "next_char=init_char\r\n",
        "for _ in range(pred_seq_len-1):\r\n",
        "    preds = model(next_char)\r\n",
        "    next_char=tf.random.categorical(tf.reshape(preds, (64, len(char_id_map))), num_samples=1)\r\n",
        "    generated_text.append( [id_char_map[x[0]] for x in next_char.numpy()])"
      ],
      "execution_count": 46,
      "outputs": []
    },
    {
      "cell_type": "code",
      "metadata": {
        "colab": {
          "base_uri": "https://localhost:8080/"
        },
        "id": "NCrjbPRnLE4T",
        "outputId": "0e34a78b-739a-43d1-dcad-481b8f4bf51d"
      },
      "source": [
        "for i in range(2):\r\n",
        "    print(' '.join([x[i] for x in generated_text]))\r\n",
        "    print('\\n\\n')"
      ],
      "execution_count": 48,
      "outputs": [
        {
          "output_type": "stream",
          "text": [
            "apparati, presso il proprio stato d'insolvenza, contrae un'obbligazione col proposito di non adempierla Ã¨ punito, a querela della persona offesa, con la reclusione fino ad un anno, se ne deriva la morte. \n",
            "Le pene sono aumentate se il fatto Ã¨ commesso in un pubblico esercizio; \n",
            "3) se sono impegnate nel giuoco poste rilevanti; \n",
            "4) se fra coloro che, cittadini o stranieri, si trovano all'estero, ma non si applicano se ha compromesso la preparazione o la efficienza bellica dello Stato, ovvero le operazioni militari, il colpevole Ã¨ punito con la reclusione da sei mesi a due anni.\n",
            "Alle stesse pene soggiace chi fa apologia dei fatti preveduti dalle disposizioni precedenti Ã¨ commesso in un pubblico esercizio; \n",
            "3) se sono impegnate nel giuoco poste rilevanti; \n",
            "4) se fra coloro che, cittadini o stranieri, si trovano nel territorio dello Stato, salve le eccezioni stabilite dal diritto pubblico interno o dâincaricato di un pubblico servizio; \n",
            "6) se il fatto eâ commesso su cose esistenti in uffici o stabilimenti pubblici, o sottoposte a sequestro o spettacoli pornografici ovvero dai suddetti spettacoli trae altrimenti profitto.(2) Alla stessa pena soggiace chi fa commercio del materiale pornografico di cui all'articolo 600-quater.1, 600-quinquies, 609-bis, 609-quater e 609-quinquies Ã¨ punito con la reclusione da nove (4) a quindici anni nei casi previsti dal comma 3 del medesimo articolo, la induce taluno a dare o a promettere indebitamente, a lui o a un pubblico servizio, Ã¨ punito, qualora il fatto non costituisca un piÃ¹ grave reato, con la reclusione fino a due anni e con la multa fino a euro 2.065. \n",
            "PuÃ² per delitti commessi con abuso della potestÃ  dei genitori importa la sospensione dall'esercizio di essa per un periodo di tempo pari al doppio della pena inflitta e, in ogni caso, non inferiore a lire due milioni.\n",
            " Chiunque, in tempo di guerra;\n",
            "2) se non inferiore ad un terzo della pena stabilita per la circostanza piÃ¹ grave; ma il giudice puÃ² aumentarla.\n",
            "Se concorrono piÃ¹ circostanze attenuanti tra in commercio, ovvero distribuisce per il consumo acque, sostanze o cose che costituiscono in tutto o in parte utilizzati per la commissione dei reati di cui agli articoli 319 e 319-ter, sfruttando in una casa di cura e di custodia.\n",
            "Quando sia cessata l'infermitÃ , il giudice, accertato che la persona Ã¨ socialmente pericolosa, ordina la vendita coattiva immediata delle merci stesse nelle forme di cui all'articolo 625 a euro 1.032. La condanna per alcuno dei delitti preveduti dagli articoli 556 e 560 importa la perdita dell'autoritÃ  maritale.\n",
            "Con la sentenza di condanna Ã¨ divenuta irrevocabile. \n",
            "Lâesecuzione delle misure di sicurezza temporanee non detentive, aggiunte a misure di sicurezza risultante ad un terzo, denaro o altra utilitÃ , col pretesto di doversi procurare il favore del condannato Ã¨ sempre obbligatoria la confisca delle somme indicate nella prima parte del presente articolo estingue il reato. \n",
            " Articolo aggiunto dalla L. 4 marzo 1958, n. 127. \n",
            " Chiunque stacca, lacera o rende comunque inservibili o illeggibili scritti o disegni affissi o esposti al pubblico ministero alla persona offesa dal reato; 2) l'interdizione perpetua dalla legge, la pena Ã¨ della reclusione da otto a diciotto anni.\n",
            "Quando ricorre una circostanza attenuante, alla pena prevista dal terzo comma Ã¨ sostituita la reclusione da ventiquattro a trenta anni. Se concorrono piÃ¹ circostanze attenuanti, la pena da applicare per effetto delle diminuzioni non puÃ² essere inferiore a dieci anni. Nondimeno, alla colonia agricola e alla casa di cura e di custodia per la incolumitÃ  pubblica.\n",
            " Chiunque, al solo scopo di impedire una nave, un edificio natante o un altro mezzo insidioso ovvero quando vi Ã¨ stata rinuncia espressa o tacita da parte di colui al quale ne spetta l'esercizio.\n",
            "Vi Ã¨ punito con la reclusione da uno a cinque anni. La pena Ã¨ raddoppiata se si tratta di disastro ferroviario o di naufragio o di sommersione di una nave adibita a trasporto di persone o di assistenza, Ã¨ punito con la reclusione da tre mesi a due anni e con la multa non inferiore a euro 206.\n",
            "Se il colpevole Ã¨ un perito o un interprete, la condanna importa l'interdizione dalla professione o dall'arte.\n",
            " Chiunque, con denuncia, querela, richiesta od altro biasimevole motivo, reca a pignoramento, o esposte per necessitaâ o per consuetudine o per destinazione alla pubblica fede, giuridica. (1)\n",
            " (1) La rubrica che recitava: \"Peculato, concussione, corruzione e istigazione alla corruzione di membri degli organi delle ComunitÃ  europee e di Stati esteri.\" Ã¨ stata cosÃ¬ sostituita dall'art. 1, L. 6 novembre 2012, n. 190.\n",
            " Se i fatti previsti dagli articoli 314, 316, 316-bis, 316-ter, 317, 318, 319, 319-quater, (1) 320, 322, 322-bis e 323 sono di particolare tenuitÃ , la pena Ã¨ diminuita.\n",
            " (1) Articolo inserito dallâart.1, comma 1, lett. b-quater) del d. L. 23 maggio 2008, n. 92, convertito con modificazioni dalla L. 24 luglio 2008, n. 125. (2)il secondo comma Ã¨ abrogato dall'art. 1, L. 15 luglio 2009, n. 94.\n",
            " (2) Comma aggiunto dallâart. 3, comma 29, lett. b), della L. 23 luglio 2009, n. 99\n",
            " \n",
            " Capo III: DISPOSIZIONE COMUNE AI CAPI PRECEDENTI La condanna per alcuno dei delitti preveduti dagli articoli 255, 256, 257 e 258 Ã¨ stata resa possibile, o soltanto agevolata, per colpa di chi era in possesso o limitate.\n",
            "La sorveglianza deve speciale degli stabilimenti ordinari il colpevole ha agito in seguito a intelligenze col nemico.\n",
            " Le pene stabilite negli articoli 247 e seguenti si applicano anche nel caso di misure di sicurezza in corso di esecuzione, o delle altre condizioni stabilite, che uno dei duellanti doveva rimanere ucciso.\n",
            "La frode o la violazione delle loro attribuzioni. 3) nel caso di condanna durante la esecuzione della pena o durante il tempo in cui il condannato si Ã¨ sottratto volontariamente all'esecuzione giÃ  iniziata della pena.\n",
            "Se l'esecuzione della pena Ã¨ subordinata alla scadenza di sicurezza detentive, ha autoritÃ  in pubblico credito\" si intendono, oltre quelle facendo dare o promettere, a qualsiasi titolo cose, che, per la commissione dei delitti medesimi o dei profitti da essi derivanti.\n",
            " (1) Articolo aggiunto dallâart. 15, comma 1, lett. e) della L. 23 luglio 2009, n. 99\n",
            " Chiunque contraffÃ \n",
            "\n",
            "\n",
            "\n",
            "270-bis Ã¨ punito con la reclusione da tre a sei mesi.\n",
            "Se dal fatto deriva una lesione personale, si applicano le pene stabilite negli articoli 582 e 583, ridotte a euro 689. \n",
            " Gli stati emotivi o passionali non escludono nÃ© diminuiscono lâimputabilitÃ . \n",
            " Chiunque attesta falsamente al pubblico ufficiale, lâidentitÃ  o la natura, la specie, i mezzi, le modalitÃ  o circostanze dellâazione, ovvero per la particolare tenuitÃ  del danno o del pericolo, ovvero le condizioni o le qualitÃ  o parte a norma dellâarticolo 12. \n",
            " Capo III: DISPOSIZIONI COMUNI Salvo che la legge disponga altrimenti, lâestinzione del reato o della pena; ma anche in tal caso, per gli effetti della loro esecuzione, dellâapplicazione delle misure di sicurezza e in ogni altro ufficio attinente alla tutela o alla cura;\n",
            "4) dei gradi e della dignitÃ  accademiche, dei titoli, delle decorazioni o del servizio, Ã¨ punito con la reclusione da uno a quattro anni. In tal caso Ã¨ della reclusione da due a sei anni e della multa da lire sessantamila a lire seicentomila se il fatto Ã¨ commesso in un pubblico esercizio; \n",
            "3) se sono impegnate nel giuoco poste rilevanti; \n",
            "4) se fra coloro che, cittadini o stranieri, si trovano all'estero, Ã¨ giudicato nuovamente nello Stato, qualora il Ministro della giustizia ne faccia richiesta. \n",
            " Art. 12 Riconoscimento delle sentenze penali o da piÃ¹ disposizioni del colpevole, o il vice-direttore responsabile, il quale omette di esercitare sul contenuto del periodico da lui abitato si trovano armi o munizioni, omette di farne denuncia all'autoritÃ , Ã¨ punito con l'arresto fino a trenta mesi.\n",
            "La stessa pena si applica se il fatto Ã¨ preveduto dalla legge come delitto colposo.\n",
            "Se il colpevole ha cagionato altresÃ¬ l'evento voluto si applicano le regole sul concorso atti sessuali ovvero a persona che appaia affetta da turbarne la continuitÃ  o la regolaritÃ , col solo scopo di imporre ai datori di lavoro patti diversi da quelli di polizia o l'autoritÃ  giudiziaria nella raccolta di prove decisive per l'individuazione o la cattura dei concorrenti, la pena Ã¨ della reclusione da tre a dieci anni e la condanna per reato con la reclusione fino a tre anni. (1)\n",
            "Alla stessa pena soggiace chi, fuori dai casi consentiti dalla legge, installa apparecchiature atte ad intercettare, impedire o interrompere comunicazioni relative ad un sistema informatico o telematico o intercorrenti tra piÃ¹ sistemi, ovvero le pene stabilite per cui Ã¨ di due terzi.\n",
            "Se si tratta di un minore, di una donna in stato di gravidanza o di una persona con disabilitÃ  di cui all'articolo 3 della legge 5 febbraio 1992, n. 104, ovvero con armi o con sostanze corrosive. \n",
            "Agli effetti della legge penale, per \"armi\" sâintendono: \n",
            " Non Ã¨ imputabile chi, nel momento in cui ha commesso il fatto, aveva compiuto i quattordici anni, ma non ancora i diciotto, se egli sia riconosciuto non imputabile, a norma dell'articolo 98.\n",
            " Chiunque abusivamente si introduce in un sistema informatico o telematico protetto da misure di sicurezza.\n",
            "La dichiarazione di abitualitÃ  o di professionalitÃ  nel reato o puÃ² avere una durata inferiore a quindici giorni nÃ© superiore a due anni e sei mesi, il giudice puÃ² ordinare che l'esecuzione della pena, e fuori dei casi di concorso, il direttore o vicedirettore responsabile, lâeditore o lo stampatore, contro la volontÃ  del medesimo genitore o tutore, Ã¨ punito, a querela di questo con la reclusione da delitto Ã¨ di un mezzo di rappresentanza negli artt. 582, 583 e 584, la pena Ã¨ aumentata da un terzo alla metÃ  se i delitti di cui al presente articolo sono commessi in danno di minore degli anni diciotto o sono punibili necessariamente all'esercizio del culto Ã¨ punito con la reclusione fino a un anno o con la multa fino a euro 103.\n",
            "Se il fatto Ã¨ commesso per fine di matrimonio; Ã¨ punito con la reclusione da uno a sei anni. \n",
            "Se la falsitÃ  concerne un atto o parte di un atto, che faccia fede fino a querela di falso, la reclusione Ã¨ da tre a dieci anni e la multa non inferiore a euro 1.032.\n",
            "La pena Ã¨ della reclusione da tre a dieci anni se il fatto Ã¨ commesso in danno di chi ha in custodia la cosa, questi Ã¨ punito con la sanzione amministrativa pecuniaria da euro 77 a euro 1.000.\n",
            " Le disposizioni degli articoli 295, 296, 297 e 299 si applicano solo in quanto non provvedano leggi speciali.\n",
            " Oltre quanto Ã¨ prescritto da speciali disposizioni di legge la libertÃ  vigilata non puÃ² avere durata inferiore a un anno.\n",
            "Per la vigilanza sui minori si osservano le disposizioni precedenti, in quanto la legge straniera garantisca, reciprocamente, al capo dello Stato italiano o alla bandiera italiana paritÃ  di tutela penale.\n",
            "I capi di bestiame raccolti in gregge o in mandria, ovvero su animali bovini o equini, anche non raccolti in mandria. \n",
            "Se concorrono due o piÃ¹ delitti e da dodici (5) a ventiquattro anni ed una condanna superiore a cinque anni; ed Ã¨ della reclusione da sei mesi a due anni.\n",
            "Alle stesse pene soggiace chi fa apologia dei fatti preveduti da questo titolo in danno:\n",
            " Nei casi di violazione delle norme sulla circolazione stradale, se il fatto Ã¨ commesso da chi offende una confessione religiosa, mediante vilipendio di un ministro del culto. \n",
            " Chiunque, in luogo destinato al culto, o in grado delle conseguenze dannose o pericolose del reato, ovvero, se il condannato non si oppone, alla prestazione di attivitÃ  non retribuita a favore della collettivitÃ  per un tempo determinato, comunque non superiore alla durata della pena sospesa, secondo le modalitÃ  indicate dal capoverso dell'art. 133, riveli una speciale inclinazione al delitto, che trovi sua causa nell'indole particolarmente degradanti. Costituiscono aggravante specifica e comportano l'aumento della pena da ventiquattro a trenta anni. Se concorrono piÃ¹ circostanze attenuanti, la pena da applicare per effetto delle diminuzioni non puÃ² avere una durata inferiore a quindici giorni, nÃ© superiore a due anni.\n",
            "Essa consegue a ogni condanna per unâaltra contravvenzione, che decorre dal giorno in cui Ã¨ dalla legge vietato il porto in modo assoluto, ovvero senza giustificato motivo. Sono assimilate ai\n",
            "\n",
            "\n",
            "\n"
          ],
          "name": "stdout"
        }
      ]
    }
  ]
}